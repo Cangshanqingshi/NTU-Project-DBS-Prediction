{
 "cells": [
  {
   "cell_type": "code",
   "execution_count": 2,
   "metadata": {},
   "outputs": [
    {
     "name": "stdout",
     "output_type": "stream",
     "text": [
      "(0, 20.45, 1.38925)\n",
      "(1, 20.6, 1.38707)\n",
      "(2, 20.45, 1.38324)\n",
      "(3, 20.41, 1.38378)\n",
      "(4, 20.59, 1.37595)\n",
      "(5, 20.78, 1.38172)\n",
      "(6, 20.59, 1.38424)\n",
      "(7, 20.72, 1.38401)\n",
      "(8, 20.47, 1.3827)\n",
      "(9, 20.43, 1.3818700000000002)\n",
      "(10, 20.49, 1.37925)\n",
      "(11, 20.49, 1.38157)\n",
      "(12, 20.48, 1.38104)\n",
      "(13, 20.65, 1.3865299999999998)\n",
      "(14, 20.47, 1.3832)\n",
      "(15, 20.6, 1.3853)\n",
      "(16, 20.84, 1.38665)\n",
      "(17, 20.8, 1.38071)\n",
      "(18, 21.04, 1.38634)\n",
      "(19, 21.0, 1.3845100000000001)\n",
      "(20, 21.0, 1.38995)\n",
      "(21, 20.86, 1.38642)\n",
      "(22, 20.7, 1.38523)\n",
      "(23, 20.63, 1.39297)\n",
      "(24, 20.8, 1.38981)\n",
      "(25, 20.65, 1.3947399999999999)\n",
      "(26, 20.77, 1.39749)\n",
      "(27, 20.68, 1.40394)\n",
      "(28, 20.93, 1.40746)\n",
      "(29, 20.5, 1.4112799999999999)\n",
      "(30, 20.3, 1.40604)\n",
      "(31, 20.42, 1.40496)\n",
      "(32, 20.45, 1.40069)\n",
      "(33, 20.53, 1.39724)\n",
      "(34, 19.57, 1.3937899999999999)\n",
      "(35, 19.07, 1.39739)\n",
      "(36, 18.93, 1.3971)\n",
      "(37, 19.03, 1.39598)\n",
      "(38, 18.92, 1.39412)\n",
      "(39, 18.73, 1.3926100000000001)\n",
      "(40, 18.5, 1.39655)\n",
      "(41, 18.64, 1.39772)\n",
      "(42, 18.52, 1.39821)\n",
      "(43, 18.65, 1.39584)\n",
      "(44, 18.63, 1.39794)\n",
      "(45, 18.82, 1.39799)\n",
      "(46, 18.97, 1.3965299999999998)\n",
      "(47, 18.88, 1.40404)\n",
      "(48, 18.85, 1.4048)\n",
      "(49, 18.78, 1.4047399999999999)\n",
      "(50, 18.85, 1.40211)\n",
      "(51, 18.93, 1.40067)\n",
      "(52, 18.95, 1.3981700000000001)\n",
      "(53, 19.12, 1.3971)\n",
      "(54, 19.12, 1.39639)\n",
      "(55, 19.02, 1.3976899999999999)\n",
      "(56, 19.01, 1.3940700000000001)\n",
      "(57, 18.75, 1.39677)\n",
      "(58, 18.43, 1.3939700000000002)\n",
      "(59, 18.52, 1.39885)\n",
      "(60, 18.38, 1.3997)\n",
      "(61, 18.4, 1.39854)\n",
      "(62, 18.73, 1.39934)\n",
      "(63, 18.74, 1.39688)\n",
      "(64, 18.86, 1.40201)\n",
      "(65, 18.84, 1.40121)\n",
      "(66, 18.85, 1.40224)\n",
      "(67, 18.91, 1.41592)\n",
      "(68, 18.83, 1.41477)\n",
      "(69, 18.66, 1.41173)\n",
      "(70, 18.67, 1.4213200000000001)\n",
      "(71, 19.0, 1.41763)\n",
      "(72, 18.82, 1.41135)\n",
      "(73, 18.79, 1.41235)\n",
      "(74, 18.74, 1.4103700000000001)\n",
      "(75, 18.76, 1.4121299999999999)\n",
      "(76, 18.55, 1.40907)\n",
      "(77, 18.46, 1.405)\n",
      "(78, 18.54, 1.40429)\n",
      "(79, 18.6, 1.40447)\n",
      "(80, 18.62, 1.40763)\n",
      "(81, 18.48, 1.41323)\n",
      "(82, 18.19, 1.42045)\n",
      "(83, 18.23, 1.41793)\n",
      "(84, 18.33, 1.41901)\n",
      "(85, 18.27, 1.41659)\n",
      "(86, 17.97, 1.41906)\n",
      "(87, 18.0, 1.41995)\n",
      "(88, 18.64, 1.42416)\n",
      "(89, 18.7, 1.42058)\n",
      "(90, 18.55, 1.42066)\n",
      "(91, 18.53, 1.41667)\n",
      "(92, 18.59, 1.41857)\n",
      "(93, 18.66, 1.40917)\n",
      "(94, 18.39, 1.40746)\n",
      "(95, 18.51, 1.4113799999999999)\n",
      "(96, 18.61, 1.41244)\n",
      "(97, 18.7, 1.40954)\n",
      "(98, 18.89, 1.4317799999999998)\n",
      "(99, 18.76, 1.4258899999999999)\n",
      "(100, 18.58, 1.41285)\n",
      "(101, 18.39, 1.42117)\n",
      "(102, 18.08, 1.41598)\n",
      "(103, 18.01, 1.42705)\n",
      "(104, 18.02, 1.42616)\n",
      "(105, 17.94, 1.42876)\n",
      "(106, 18.09, 1.41601)\n",
      "(107, 18.06, 1.4303)\n",
      "(108, 18.05, 1.42592)\n",
      "(109, 17.86, 1.4272799999999999)\n",
      "(110, 17.78, 1.42678)\n",
      "(111, 17.73, 1.43654)\n",
      "(112, 17.59, 1.43529)\n",
      "(113, 17.42, 1.4393799999999999)\n",
      "(114, 17.54, 1.4284700000000001)\n",
      "(115, 17.27, 1.4394200000000001)\n",
      "(116, 17.07, 1.44992)\n",
      "(117, 17.09, 1.44655)\n",
      "(118, 17.13, 1.44814)\n",
      "(119, 17.22, 1.45018)\n",
      "(120, 17.19, 1.44954)\n",
      "(121, 17.14, 1.44766)\n"
     ]
    }
   ],
   "source": [
    "import sqlite3\n",
    "import pandas as pd\n",
    "df = pd.read_csv(r\"C:\\Users\\李宏洋\\Desktop\\南洋理工大学人工智能项目\\课程资源\\第一节课\\Course Materials_Week 1  2 Intro to NTU AI Lab  Regression  Decision Tree-20220705\\DBS_SingDollar.csv\")\n",
    "c=sqlite3.connect(r\"C:\\Users\\李宏洋\\Desktop\\南洋理工大学人工智能项目\\课程资源\\第一节课\\Course Materials_Week 1  2 Intro to NTU AI Lab  Regression  Decision Tree-20220705\\DBS.db\")\n",
    "df=df.iloc[:,2:4]\n",
    "df.to_sql(name='DBS',con=c)\n",
    "for row in c.execute(\"select * from DBS\"):\n",
    "    print(row)"
   ]
  },
  {
   "cell_type": "code",
   "execution_count": 3,
   "metadata": {},
   "outputs": [],
   "source": [
    "import pandas as pd\n",
    "df = pd.read_csv(r\"C:\\Users\\李宏洋\\Desktop\\南洋理工大学人工智能项目\\课程资源\\第一节课\\Course Materials_Week 1  2 Intro to NTU AI Lab  Regression  Decision Tree-20220705\\DBS_SingDollar.csv\")\n",
    "X=df.loc[:,[\"SGD\"]]\n",
    "Y=df.loc[:,[\"DBS\"]]"
   ]
  },
  {
   "cell_type": "code",
   "execution_count": 4,
   "metadata": {},
   "outputs": [
    {
     "data": {
      "text/html": [
       "<div>\n",
       "<style scoped>\n",
       "    .dataframe tbody tr th:only-of-type {\n",
       "        vertical-align: middle;\n",
       "    }\n",
       "\n",
       "    .dataframe tbody tr th {\n",
       "        vertical-align: top;\n",
       "    }\n",
       "\n",
       "    .dataframe thead th {\n",
       "        text-align: right;\n",
       "    }\n",
       "</style>\n",
       "<table border=\"1\" class=\"dataframe\">\n",
       "  <thead>\n",
       "    <tr style=\"text-align: right;\">\n",
       "      <th></th>\n",
       "      <th>SGD</th>\n",
       "    </tr>\n",
       "  </thead>\n",
       "  <tbody>\n",
       "    <tr>\n",
       "      <td>0</td>\n",
       "      <td>1.38925</td>\n",
       "    </tr>\n",
       "    <tr>\n",
       "      <td>1</td>\n",
       "      <td>1.38707</td>\n",
       "    </tr>\n",
       "    <tr>\n",
       "      <td>2</td>\n",
       "      <td>1.38324</td>\n",
       "    </tr>\n",
       "    <tr>\n",
       "      <td>3</td>\n",
       "      <td>1.38378</td>\n",
       "    </tr>\n",
       "    <tr>\n",
       "      <td>4</td>\n",
       "      <td>1.37595</td>\n",
       "    </tr>\n",
       "    <tr>\n",
       "      <td>...</td>\n",
       "      <td>...</td>\n",
       "    </tr>\n",
       "    <tr>\n",
       "      <td>117</td>\n",
       "      <td>1.44655</td>\n",
       "    </tr>\n",
       "    <tr>\n",
       "      <td>118</td>\n",
       "      <td>1.44814</td>\n",
       "    </tr>\n",
       "    <tr>\n",
       "      <td>119</td>\n",
       "      <td>1.45018</td>\n",
       "    </tr>\n",
       "    <tr>\n",
       "      <td>120</td>\n",
       "      <td>1.44954</td>\n",
       "    </tr>\n",
       "    <tr>\n",
       "      <td>121</td>\n",
       "      <td>1.44766</td>\n",
       "    </tr>\n",
       "  </tbody>\n",
       "</table>\n",
       "<p>122 rows × 1 columns</p>\n",
       "</div>"
      ],
      "text/plain": [
       "         SGD\n",
       "0    1.38925\n",
       "1    1.38707\n",
       "2    1.38324\n",
       "3    1.38378\n",
       "4    1.37595\n",
       "..       ...\n",
       "117  1.44655\n",
       "118  1.44814\n",
       "119  1.45018\n",
       "120  1.44954\n",
       "121  1.44766\n",
       "\n",
       "[122 rows x 1 columns]"
      ]
     },
     "execution_count": 4,
     "metadata": {},
     "output_type": "execute_result"
    }
   ],
   "source": [
    "X"
   ]
  },
  {
   "cell_type": "code",
   "execution_count": 5,
   "metadata": {},
   "outputs": [
    {
     "data": {
      "text/html": [
       "<div>\n",
       "<style scoped>\n",
       "    .dataframe tbody tr th:only-of-type {\n",
       "        vertical-align: middle;\n",
       "    }\n",
       "\n",
       "    .dataframe tbody tr th {\n",
       "        vertical-align: top;\n",
       "    }\n",
       "\n",
       "    .dataframe thead th {\n",
       "        text-align: right;\n",
       "    }\n",
       "</style>\n",
       "<table border=\"1\" class=\"dataframe\">\n",
       "  <thead>\n",
       "    <tr style=\"text-align: right;\">\n",
       "      <th></th>\n",
       "      <th>DBS</th>\n",
       "    </tr>\n",
       "  </thead>\n",
       "  <tbody>\n",
       "    <tr>\n",
       "      <td>0</td>\n",
       "      <td>20.45</td>\n",
       "    </tr>\n",
       "    <tr>\n",
       "      <td>1</td>\n",
       "      <td>20.60</td>\n",
       "    </tr>\n",
       "    <tr>\n",
       "      <td>2</td>\n",
       "      <td>20.45</td>\n",
       "    </tr>\n",
       "    <tr>\n",
       "      <td>3</td>\n",
       "      <td>20.41</td>\n",
       "    </tr>\n",
       "    <tr>\n",
       "      <td>4</td>\n",
       "      <td>20.59</td>\n",
       "    </tr>\n",
       "    <tr>\n",
       "      <td>...</td>\n",
       "      <td>...</td>\n",
       "    </tr>\n",
       "    <tr>\n",
       "      <td>117</td>\n",
       "      <td>17.09</td>\n",
       "    </tr>\n",
       "    <tr>\n",
       "      <td>118</td>\n",
       "      <td>17.13</td>\n",
       "    </tr>\n",
       "    <tr>\n",
       "      <td>119</td>\n",
       "      <td>17.22</td>\n",
       "    </tr>\n",
       "    <tr>\n",
       "      <td>120</td>\n",
       "      <td>17.19</td>\n",
       "    </tr>\n",
       "    <tr>\n",
       "      <td>121</td>\n",
       "      <td>17.14</td>\n",
       "    </tr>\n",
       "  </tbody>\n",
       "</table>\n",
       "<p>122 rows × 1 columns</p>\n",
       "</div>"
      ],
      "text/plain": [
       "       DBS\n",
       "0    20.45\n",
       "1    20.60\n",
       "2    20.45\n",
       "3    20.41\n",
       "4    20.59\n",
       "..     ...\n",
       "117  17.09\n",
       "118  17.13\n",
       "119  17.22\n",
       "120  17.19\n",
       "121  17.14\n",
       "\n",
       "[122 rows x 1 columns]"
      ]
     },
     "execution_count": 5,
     "metadata": {},
     "output_type": "execute_result"
    }
   ],
   "source": [
    "Y"
   ]
  },
  {
   "cell_type": "code",
   "execution_count": 6,
   "metadata": {},
   "outputs": [],
   "source": [
    "from sklearn import linear_model"
   ]
  },
  {
   "cell_type": "code",
   "execution_count": 7,
   "metadata": {},
   "outputs": [],
   "source": [
    "model = linear_model.LinearRegression()"
   ]
  },
  {
   "cell_type": "code",
   "execution_count": 8,
   "metadata": {},
   "outputs": [
    {
     "data": {
      "text/plain": [
       "LinearRegression(copy_X=True, fit_intercept=True, n_jobs=None, normalize=False)"
      ]
     },
     "execution_count": 8,
     "metadata": {},
     "output_type": "execute_result"
    }
   ],
   "source": [
    "model.fit(X,Y)"
   ]
  },
  {
   "cell_type": "code",
   "execution_count": 9,
   "metadata": {},
   "outputs": [
    {
     "data": {
      "text/plain": [
       "array([[-50.60094302]])"
      ]
     },
     "execution_count": 9,
     "metadata": {},
     "output_type": "execute_result"
    }
   ],
   "source": [
    "model.coef_"
   ]
  },
  {
   "cell_type": "code",
   "execution_count": 10,
   "metadata": {},
   "outputs": [
    {
     "data": {
      "text/plain": [
       "array([90.22858515])"
      ]
     },
     "execution_count": 10,
     "metadata": {},
     "output_type": "execute_result"
    }
   ],
   "source": [
    "model.intercept_"
   ]
  },
  {
   "cell_type": "code",
   "execution_count": 11,
   "metadata": {},
   "outputs": [],
   "source": [
    "pred=model.predict(X)"
   ]
  },
  {
   "cell_type": "code",
   "execution_count": 12,
   "metadata": {},
   "outputs": [
    {
     "data": {
      "text/plain": [
       "array([[19.93122506],\n",
       "       [20.04153512],\n",
       "       [20.23533673],\n",
       "       [20.20801222],\n",
       "       [20.6042176 ],\n",
       "       [20.31225016],\n",
       "       [20.18473578],\n",
       "       [20.196374  ],\n",
       "       [20.26266124],\n",
       "       [20.30466002],\n",
       "       [20.43723449],\n",
       "       [20.3198403 ],\n",
       "       [20.3466588 ],\n",
       "       [20.06885962],\n",
       "       [20.23736076],\n",
       "       [20.13109878],\n",
       "       [20.06278751],\n",
       "       [20.36335711],\n",
       "       [20.0784738 ],\n",
       "       [20.17107353],\n",
       "       [19.8958044 ],\n",
       "       [20.07442573],\n",
       "       [20.13464085],\n",
       "       [19.74298955],\n",
       "       [19.90288853],\n",
       "       [19.65342588],\n",
       "       [19.51427329],\n",
       "       [19.18789721],\n",
       "       [19.00978189],\n",
       "       [18.81648629],\n",
       "       [19.08163523],\n",
       "       [19.13628424],\n",
       "       [19.35235027],\n",
       "       [19.52692353],\n",
       "       [19.70149678],\n",
       "       [19.51933338],\n",
       "       [19.53400766],\n",
       "       [19.59068071],\n",
       "       [19.68479847],\n",
       "       [19.76120589],\n",
       "       [19.56183818],\n",
       "       [19.50263507],\n",
       "       [19.47784061],\n",
       "       [19.59776485],\n",
       "       [19.49150286],\n",
       "       [19.48897282],\n",
       "       [19.56285019],\n",
       "       [19.18283711],\n",
       "       [19.1443804 ],\n",
       "       [19.14741645],\n",
       "       [19.28049693],\n",
       "       [19.35336229],\n",
       "       [19.47986465],\n",
       "       [19.53400766],\n",
       "       [19.56993433],\n",
       "       [19.5041531 ],\n",
       "       [19.68732851],\n",
       "       [19.55070597],\n",
       "       [19.69238861],\n",
       "       [19.44545601],\n",
       "       [19.40244521],\n",
       "       [19.4611423 ],\n",
       "       [19.42066154],\n",
       "       [19.54513986],\n",
       "       [19.28555703],\n",
       "       [19.32603778],\n",
       "       [19.27391881],\n",
       "       [18.58169791],\n",
       "       [18.63988899],\n",
       "       [18.79371586],\n",
       "       [18.30845282],\n",
       "       [18.4951703 ],\n",
       "       [18.81294422],\n",
       "       [18.76234328],\n",
       "       [18.86253314],\n",
       "       [18.77347548],\n",
       "       [18.92831437],\n",
       "       [19.13426021],\n",
       "       [19.17018688],\n",
       "       [19.16107871],\n",
       "       [19.00117973],\n",
       "       [18.71781445],\n",
       "       [18.35247564],\n",
       "       [18.47999001],\n",
       "       [18.425341  ],\n",
       "       [18.54779528],\n",
       "       [18.42281095],\n",
       "       [18.37777611],\n",
       "       [18.16474614],\n",
       "       [18.34589751],\n",
       "       [18.34184944],\n",
       "       [18.5437472 ],\n",
       "       [18.44760541],\n",
       "       [18.92325427],\n",
       "       [19.00978189],\n",
       "       [18.81142619],\n",
       "       [18.75778919],\n",
       "       [18.90453193],\n",
       "       [17.77916695],\n",
       "       [18.07720651],\n",
       "       [18.7370428 ],\n",
       "       [18.31604296],\n",
       "       [18.57866185],\n",
       "       [18.01850941],\n",
       "       [18.06354425],\n",
       "       [17.9319818 ],\n",
       "       [18.57714382],\n",
       "       [17.85405635],\n",
       "       [18.07568848],\n",
       "       [18.0068712 ],\n",
       "       [18.03217167],\n",
       "       [17.53830646],\n",
       "       [17.60155764],\n",
       "       [17.39459979],\n",
       "       [17.94665607],\n",
       "       [17.39257575],\n",
       "       [16.86126585],\n",
       "       [17.03179102],\n",
       "       [16.95133553],\n",
       "       [16.8481096 ],\n",
       "       [16.88049421],\n",
       "       [16.97562398]])"
      ]
     },
     "execution_count": 12,
     "metadata": {},
     "output_type": "execute_result"
    }
   ],
   "source": [
    "pred"
   ]
  },
  {
   "cell_type": "code",
   "execution_count": 13,
   "metadata": {},
   "outputs": [],
   "source": [
    "from sklearn.metrics import mean_squared_error"
   ]
  },
  {
   "cell_type": "code",
   "execution_count": 14,
   "metadata": {},
   "outputs": [],
   "source": [
    "rmse=mean_squared_error(Y,pred)**0.5"
   ]
  },
  {
   "cell_type": "code",
   "execution_count": 15,
   "metadata": {},
   "outputs": [
    {
     "data": {
      "text/plain": [
       "0.6283698867042149"
      ]
     },
     "execution_count": 15,
     "metadata": {},
     "output_type": "execute_result"
    }
   ],
   "source": [
    "rmse"
   ]
  },
  {
   "cell_type": "code",
   "execution_count": 16,
   "metadata": {},
   "outputs": [],
   "source": [
    "from sklearn import tree"
   ]
  },
  {
   "cell_type": "code",
   "execution_count": 17,
   "metadata": {},
   "outputs": [],
   "source": [
    "model=tree.DecisionTreeRegressor()"
   ]
  },
  {
   "cell_type": "code",
   "execution_count": 18,
   "metadata": {},
   "outputs": [
    {
     "data": {
      "text/plain": [
       "DecisionTreeRegressor(criterion='mse', max_depth=None, max_features=None,\n",
       "                      max_leaf_nodes=None, min_impurity_decrease=0.0,\n",
       "                      min_impurity_split=None, min_samples_leaf=1,\n",
       "                      min_samples_split=2, min_weight_fraction_leaf=0.0,\n",
       "                      presort=False, random_state=None, splitter='best')"
      ]
     },
     "execution_count": 18,
     "metadata": {},
     "output_type": "execute_result"
    }
   ],
   "source": [
    "model.fit(X,Y)"
   ]
  },
  {
   "cell_type": "code",
   "execution_count": 19,
   "metadata": {},
   "outputs": [],
   "source": [
    "pred=model.predict(X)"
   ]
  },
  {
   "cell_type": "code",
   "execution_count": 20,
   "metadata": {},
   "outputs": [],
   "source": [
    "rmse=mean_squared_error(Y,pred)**0.5"
   ]
  },
  {
   "cell_type": "code",
   "execution_count": 21,
   "metadata": {},
   "outputs": [
    {
     "data": {
      "text/plain": [
       "0.16306113708124784"
      ]
     },
     "execution_count": 21,
     "metadata": {},
     "output_type": "execute_result"
    }
   ],
   "source": [
    "rmse"
   ]
  },
  {
   "cell_type": "code",
   "execution_count": 22,
   "metadata": {},
   "outputs": [],
   "source": [
    "import joblib"
   ]
  },
  {
   "cell_type": "code",
   "execution_count": 24,
   "metadata": {},
   "outputs": [
    {
     "data": {
      "text/plain": [
       "['decision_tree']"
      ]
     },
     "execution_count": 24,
     "metadata": {},
     "output_type": "execute_result"
    }
   ],
   "source": [
    "joblib.dump(model, \"decision_tree\")"
   ]
  },
  {
   "cell_type": "code",
   "execution_count": 25,
   "metadata": {},
   "outputs": [],
   "source": [
    "model = linear_model.LinearRegression()"
   ]
  },
  {
   "cell_type": "code",
   "execution_count": 32,
   "metadata": {},
   "outputs": [
    {
     "data": {
      "text/plain": [
       "LinearRegression(copy_X=True, fit_intercept=True, n_jobs=None, normalize=False)"
      ]
     },
     "execution_count": 32,
     "metadata": {},
     "output_type": "execute_result"
    }
   ],
   "source": [
    "model.fit(X,Y)"
   ]
  },
  {
   "cell_type": "code",
   "execution_count": 35,
   "metadata": {},
   "outputs": [
    {
     "data": {
      "text/plain": [
       "['regression']"
      ]
     },
     "execution_count": 35,
     "metadata": {},
     "output_type": "execute_result"
    }
   ],
   "source": [
    "joblib.dump(model, \"regression\")"
   ]
  },
  {
   "cell_type": "code",
   "execution_count": 36,
   "metadata": {},
   "outputs": [],
   "source": [
    "model=joblib.load(\"regression\")"
   ]
  },
  {
   "cell_type": "code",
   "execution_count": 37,
   "metadata": {},
   "outputs": [
    {
     "name": "stdout",
     "output_type": "stream",
     "text": [
      "[[19.38726492]]\n"
     ]
    }
   ],
   "source": [
    "print(model.predict([[1.4]]))"
   ]
  },
  {
   "cell_type": "code",
   "execution_count": 38,
   "metadata": {},
   "outputs": [],
   "source": [
    "model=joblib.load(\"decision_tree\")"
   ]
  },
  {
   "cell_type": "code",
   "execution_count": 39,
   "metadata": {},
   "outputs": [
    {
     "name": "stdout",
     "output_type": "stream",
     "text": [
      "[18.38]\n"
     ]
    }
   ],
   "source": [
    "print(model.predict([[1.4]]))"
   ]
  },
  {
   "cell_type": "code",
   "execution_count": null,
   "metadata": {},
   "outputs": [],
   "source": []
  }
 ],
 "metadata": {
  "kernelspec": {
   "display_name": "Python 3",
   "language": "python",
   "name": "python3"
  },
  "language_info": {
   "codemirror_mode": {
    "name": "ipython",
    "version": 3
   },
   "file_extension": ".py",
   "mimetype": "text/x-python",
   "name": "python",
   "nbconvert_exporter": "python",
   "pygments_lexer": "ipython3",
   "version": "3.7.4"
  }
 },
 "nbformat": 4,
 "nbformat_minor": 2
}
